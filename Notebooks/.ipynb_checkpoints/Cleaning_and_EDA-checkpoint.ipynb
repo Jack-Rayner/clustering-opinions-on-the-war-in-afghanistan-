{
 "cells": [
  {
   "cell_type": "markdown",
   "id": "dcd21101-55c0-4ed1-81a1-cbb85abf7e80",
   "metadata": {},
   "source": [
    "## Imports"
   ]
  },
  {
   "cell_type": "code",
   "execution_count": 1,
   "id": "3812b35a-a573-41f3-93d0-61d2d52393b7",
   "metadata": {},
   "outputs": [],
   "source": [
    "import warnings\n",
    "\n",
    "import pandas as pd\n",
    "import numpy as np\n",
    "from sklearn.pipeline import Pipeline, FeatureUnion\n",
    "from nltk.sentiment.vader import SentimentIntensityAnalyzer\n",
    "from sklearn.feature_extraction.text import CountVectorizer, TfidfVectorizer\n",
    "from sklearn.preprocessing import FunctionTransformer\n",
    "import seaborn as sns\n",
    "import matplotlib.pyplot as plt\n",
    "import json"
   ]
  },
  {
   "cell_type": "markdown",
   "id": "ceb4d91a-fc0e-418b-8040-b380a53a7e46",
   "metadata": {},
   "source": [
    "# Create DataFrame\n",
    "___"
   ]
  },
  {
   "cell_type": "code",
   "execution_count": 2,
   "id": "7f97c7f3-3b2a-409b-85bd-4fd52efafcac",
   "metadata": {},
   "outputs": [
    {
     "name": "stderr",
     "output_type": "stream",
     "text": [
      "/Users/jackrayner/opt/anaconda3/lib/python3.8/site-packages/IPython/core/interactiveshell.py:3106: DtypeWarning: Columns (18) have mixed types.Specify dtype option on import or set low_memory=False.\n",
      "  has_raised = await self.run_ast_nodes(code_ast.body, cell_name,\n"
     ]
    }
   ],
   "source": [
    "articles = pd.read_csv('../Datasets/articles_scrape.csv')"
   ]
  },
  {
   "cell_type": "code",
   "execution_count": 3,
   "id": "a337d085-36fd-42b8-a372-8e5196e5c98f",
   "metadata": {},
   "outputs": [
    {
     "data": {
      "text/html": [
       "<div>\n",
       "<style scoped>\n",
       "    .dataframe tbody tr th:only-of-type {\n",
       "        vertical-align: middle;\n",
       "    }\n",
       "\n",
       "    .dataframe tbody tr th {\n",
       "        vertical-align: top;\n",
       "    }\n",
       "\n",
       "    .dataframe thead th {\n",
       "        text-align: right;\n",
       "    }\n",
       "</style>\n",
       "<table border=\"1\" class=\"dataframe\">\n",
       "  <thead>\n",
       "    <tr style=\"text-align: right;\">\n",
       "      <th></th>\n",
       "      <th>abstract</th>\n",
       "      <th>web_url</th>\n",
       "      <th>snippet</th>\n",
       "      <th>lead_paragraph</th>\n",
       "      <th>source</th>\n",
       "      <th>multimedia</th>\n",
       "      <th>headline</th>\n",
       "      <th>keywords</th>\n",
       "      <th>pub_date</th>\n",
       "      <th>document_type</th>\n",
       "      <th>...</th>\n",
       "      <th>section_name</th>\n",
       "      <th>byline</th>\n",
       "      <th>type_of_material</th>\n",
       "      <th>_id</th>\n",
       "      <th>word_count</th>\n",
       "      <th>uri</th>\n",
       "      <th>print_section</th>\n",
       "      <th>print_page</th>\n",
       "      <th>subsection_name</th>\n",
       "      <th>slideshow_credits</th>\n",
       "    </tr>\n",
       "  </thead>\n",
       "  <tbody>\n",
       "    <tr>\n",
       "      <th>0</th>\n",
       "      <td>The United States, supported by Britain, today...</td>\n",
       "      <td>https://www.nytimes.com/2001/10/07/internation...</td>\n",
       "      <td>The United States, supported by Britain, today...</td>\n",
       "      <td>The United States, supported by Britain, toda...</td>\n",
       "      <td>The New York Times</td>\n",
       "      <td>[]</td>\n",
       "      <td>{'main': \"U.S. and Britain Clearing Way for 'R...</td>\n",
       "      <td>[{'name': 'glocations', 'value': 'The United S...</td>\n",
       "      <td>2001-10-07T05:00:00+0000</td>\n",
       "      <td>article</td>\n",
       "      <td>...</td>\n",
       "      <td>World</td>\n",
       "      <td>{'original': 'By Christopher S. Wren and Jacqu...</td>\n",
       "      <td>News</td>\n",
       "      <td>nyt://article/02612e18-76c0-5447-bace-71473568...</td>\n",
       "      <td>1333</td>\n",
       "      <td>nyt://article/02612e18-76c0-5447-bace-71473568...</td>\n",
       "      <td>NaN</td>\n",
       "      <td>NaN</td>\n",
       "      <td>NaN</td>\n",
       "      <td>NaN</td>\n",
       "    </tr>\n",
       "    <tr>\n",
       "      <th>1</th>\n",
       "      <td>Government can be expected to try to control, ...</td>\n",
       "      <td>https://www.nytimes.com/2001/10/07/weekinrevie...</td>\n",
       "      <td>Government can be expected to try to control, ...</td>\n",
       "      <td>IT will be, Americans have already been warned...</td>\n",
       "      <td>The New York Times</td>\n",
       "      <td>[]</td>\n",
       "      <td>{'main': \"The World: Information at Risk; What...</td>\n",
       "      <td>[{'name': 'subject', 'value': 'World Trade Cen...</td>\n",
       "      <td>2001-10-07T05:00:00+0000</td>\n",
       "      <td>article</td>\n",
       "      <td>...</td>\n",
       "      <td>Week in Review</td>\n",
       "      <td>{'original': 'By Todd S. Purdum', 'person': [{...</td>\n",
       "      <td>News</td>\n",
       "      <td>nyt://article/0abd157f-d390-5787-bf89-4e87dad4...</td>\n",
       "      <td>1322</td>\n",
       "      <td>nyt://article/0abd157f-d390-5787-bf89-4e87dad4...</td>\n",
       "      <td>4</td>\n",
       "      <td>1.0</td>\n",
       "      <td>NaN</td>\n",
       "      <td>NaN</td>\n",
       "    </tr>\n",
       "    <tr>\n",
       "      <th>2</th>\n",
       "      <td>Richard B Woodward interviews photographer Edw...</td>\n",
       "      <td>https://www.nytimes.com/2001/10/07/arts/art-ar...</td>\n",
       "      <td>Richard B Woodward interviews photographer Edw...</td>\n",
       "      <td>THE photographer Edward Grazda first visited A...</td>\n",
       "      <td>The New York Times</td>\n",
       "      <td>[]</td>\n",
       "      <td>{'main': 'Art/Architecture; Images of Afghanis...</td>\n",
       "      <td>[{'name': 'glocations', 'value': 'Afghanistan'...</td>\n",
       "      <td>2001-10-07T05:00:00+0000</td>\n",
       "      <td>article</td>\n",
       "      <td>...</td>\n",
       "      <td>Arts</td>\n",
       "      <td>{'original': None, 'person': [], 'organization...</td>\n",
       "      <td>Interview</td>\n",
       "      <td>nyt://article/15581e37-54ea-5aa4-bc80-34588ab1...</td>\n",
       "      <td>1638</td>\n",
       "      <td>nyt://article/15581e37-54ea-5aa4-bc80-34588ab1...</td>\n",
       "      <td>2</td>\n",
       "      <td>34.0</td>\n",
       "      <td>NaN</td>\n",
       "      <td>NaN</td>\n",
       "    </tr>\n",
       "    <tr>\n",
       "      <th>3</th>\n",
       "      <td>Violence Policy Center, Washington-based group...</td>\n",
       "      <td>https://www.nytimes.com/2001/10/07/us/a-nation...</td>\n",
       "      <td>Violence Policy Center, Washington-based group...</td>\n",
       "      <td>In the late 1980's, an American-based agent fo...</td>\n",
       "      <td>The New York Times</td>\n",
       "      <td>[]</td>\n",
       "      <td>{'main': \"In 80's, Afghan Militias Used U.S. R...</td>\n",
       "      <td>[{'name': 'glocations', 'value': 'New York Cit...</td>\n",
       "      <td>2001-10-07T05:00:00+0000</td>\n",
       "      <td>article</td>\n",
       "      <td>...</td>\n",
       "      <td>U.S.</td>\n",
       "      <td>{'original': 'By James Dao', 'person': [{'firs...</td>\n",
       "      <td>News</td>\n",
       "      <td>nyt://article/17f9cbdb-ff36-5df1-8a37-5c02edbb...</td>\n",
       "      <td>603</td>\n",
       "      <td>nyt://article/17f9cbdb-ff36-5df1-8a37-5c02edbb...</td>\n",
       "      <td>B</td>\n",
       "      <td>1.0</td>\n",
       "      <td>NaN</td>\n",
       "      <td>NaN</td>\n",
       "    </tr>\n",
       "    <tr>\n",
       "      <th>4</th>\n",
       "      <td>Sending bright flashes of light and loud concu...</td>\n",
       "      <td>https://www.nytimes.com/2001/10/07/internation...</td>\n",
       "      <td>Sending bright flashes of light and loud concu...</td>\n",
       "      <td>TOPDARA, Afghanistan, Oct. 7 — Sending bright...</td>\n",
       "      <td>The New York Times</td>\n",
       "      <td>[]</td>\n",
       "      <td>{'main': 'Thunderous Attack Heard in Kabul', '...</td>\n",
       "      <td>[{'name': 'glocations', 'value': 'Afghanistan'...</td>\n",
       "      <td>2001-10-07T05:00:00+0000</td>\n",
       "      <td>article</td>\n",
       "      <td>...</td>\n",
       "      <td>World</td>\n",
       "      <td>{'original': 'By David Rohde', 'person': [{'fi...</td>\n",
       "      <td>News</td>\n",
       "      <td>nyt://article/1a2a8209-9dd4-501b-a988-0c2adfc9...</td>\n",
       "      <td>611</td>\n",
       "      <td>nyt://article/1a2a8209-9dd4-501b-a988-0c2adfc9...</td>\n",
       "      <td>NaN</td>\n",
       "      <td>NaN</td>\n",
       "      <td>NaN</td>\n",
       "      <td>NaN</td>\n",
       "    </tr>\n",
       "  </tbody>\n",
       "</table>\n",
       "<p>5 rows × 21 columns</p>\n",
       "</div>"
      ],
      "text/plain": [
       "                                            abstract  \\\n",
       "0  The United States, supported by Britain, today...   \n",
       "1  Government can be expected to try to control, ...   \n",
       "2  Richard B Woodward interviews photographer Edw...   \n",
       "3  Violence Policy Center, Washington-based group...   \n",
       "4  Sending bright flashes of light and loud concu...   \n",
       "\n",
       "                                             web_url  \\\n",
       "0  https://www.nytimes.com/2001/10/07/internation...   \n",
       "1  https://www.nytimes.com/2001/10/07/weekinrevie...   \n",
       "2  https://www.nytimes.com/2001/10/07/arts/art-ar...   \n",
       "3  https://www.nytimes.com/2001/10/07/us/a-nation...   \n",
       "4  https://www.nytimes.com/2001/10/07/internation...   \n",
       "\n",
       "                                             snippet  \\\n",
       "0  The United States, supported by Britain, today...   \n",
       "1  Government can be expected to try to control, ...   \n",
       "2  Richard B Woodward interviews photographer Edw...   \n",
       "3  Violence Policy Center, Washington-based group...   \n",
       "4  Sending bright flashes of light and loud concu...   \n",
       "\n",
       "                                      lead_paragraph              source  \\\n",
       "0   The United States, supported by Britain, toda...  The New York Times   \n",
       "1  IT will be, Americans have already been warned...  The New York Times   \n",
       "2  THE photographer Edward Grazda first visited A...  The New York Times   \n",
       "3  In the late 1980's, an American-based agent fo...  The New York Times   \n",
       "4   TOPDARA, Afghanistan, Oct. 7 — Sending bright...  The New York Times   \n",
       "\n",
       "  multimedia                                           headline  \\\n",
       "0         []  {'main': \"U.S. and Britain Clearing Way for 'R...   \n",
       "1         []  {'main': \"The World: Information at Risk; What...   \n",
       "2         []  {'main': 'Art/Architecture; Images of Afghanis...   \n",
       "3         []  {'main': \"In 80's, Afghan Militias Used U.S. R...   \n",
       "4         []  {'main': 'Thunderous Attack Heard in Kabul', '...   \n",
       "\n",
       "                                            keywords  \\\n",
       "0  [{'name': 'glocations', 'value': 'The United S...   \n",
       "1  [{'name': 'subject', 'value': 'World Trade Cen...   \n",
       "2  [{'name': 'glocations', 'value': 'Afghanistan'...   \n",
       "3  [{'name': 'glocations', 'value': 'New York Cit...   \n",
       "4  [{'name': 'glocations', 'value': 'Afghanistan'...   \n",
       "\n",
       "                   pub_date document_type  ...    section_name  \\\n",
       "0  2001-10-07T05:00:00+0000       article  ...           World   \n",
       "1  2001-10-07T05:00:00+0000       article  ...  Week in Review   \n",
       "2  2001-10-07T05:00:00+0000       article  ...            Arts   \n",
       "3  2001-10-07T05:00:00+0000       article  ...            U.S.   \n",
       "4  2001-10-07T05:00:00+0000       article  ...           World   \n",
       "\n",
       "                                              byline type_of_material  \\\n",
       "0  {'original': 'By Christopher S. Wren and Jacqu...             News   \n",
       "1  {'original': 'By Todd S. Purdum', 'person': [{...             News   \n",
       "2  {'original': None, 'person': [], 'organization...        Interview   \n",
       "3  {'original': 'By James Dao', 'person': [{'firs...             News   \n",
       "4  {'original': 'By David Rohde', 'person': [{'fi...             News   \n",
       "\n",
       "                                                 _id word_count  \\\n",
       "0  nyt://article/02612e18-76c0-5447-bace-71473568...       1333   \n",
       "1  nyt://article/0abd157f-d390-5787-bf89-4e87dad4...       1322   \n",
       "2  nyt://article/15581e37-54ea-5aa4-bc80-34588ab1...       1638   \n",
       "3  nyt://article/17f9cbdb-ff36-5df1-8a37-5c02edbb...        603   \n",
       "4  nyt://article/1a2a8209-9dd4-501b-a988-0c2adfc9...        611   \n",
       "\n",
       "                                                 uri print_section print_page  \\\n",
       "0  nyt://article/02612e18-76c0-5447-bace-71473568...           NaN        NaN   \n",
       "1  nyt://article/0abd157f-d390-5787-bf89-4e87dad4...             4        1.0   \n",
       "2  nyt://article/15581e37-54ea-5aa4-bc80-34588ab1...             2       34.0   \n",
       "3  nyt://article/17f9cbdb-ff36-5df1-8a37-5c02edbb...             B        1.0   \n",
       "4  nyt://article/1a2a8209-9dd4-501b-a988-0c2adfc9...           NaN        NaN   \n",
       "\n",
       "  subsection_name slideshow_credits  \n",
       "0             NaN               NaN  \n",
       "1             NaN               NaN  \n",
       "2             NaN               NaN  \n",
       "3             NaN               NaN  \n",
       "4             NaN               NaN  \n",
       "\n",
       "[5 rows x 21 columns]"
      ]
     },
     "execution_count": 3,
     "metadata": {},
     "output_type": "execute_result"
    }
   ],
   "source": [
    "articles.head()"
   ]
  },
  {
   "cell_type": "markdown",
   "id": "af17bb8f-63d3-4898-a400-cc414b83592a",
   "metadata": {},
   "source": [
    "## Finding Duplicates"
   ]
  },
  {
   "cell_type": "code",
   "execution_count": 4,
   "id": "00b73e78-536e-4977-85d1-0d6a438031db",
   "metadata": {},
   "outputs": [
    {
     "data": {
      "text/plain": [
       "0"
      ]
     },
     "execution_count": 4,
     "metadata": {},
     "output_type": "execute_result"
    }
   ],
   "source": [
    "articles.duplicated().sum()"
   ]
  },
  {
   "cell_type": "markdown",
   "id": "03c78f6c-052e-47aa-88c1-390075e45f49",
   "metadata": {},
   "source": [
    "# Cleaning\n",
    "___"
   ]
  },
  {
   "cell_type": "code",
   "execution_count": 5,
   "id": "dc3e45c2-882b-4b23-aa6c-2aa799e43193",
   "metadata": {},
   "outputs": [
    {
     "data": {
      "text/plain": [
       "abstract             object\n",
       "web_url              object\n",
       "snippet              object\n",
       "lead_paragraph       object\n",
       "source               object\n",
       "multimedia           object\n",
       "headline             object\n",
       "keywords             object\n",
       "pub_date             object\n",
       "document_type        object\n",
       "news_desk            object\n",
       "section_name         object\n",
       "byline               object\n",
       "type_of_material     object\n",
       "_id                  object\n",
       "word_count            int64\n",
       "uri                  object\n",
       "print_section        object\n",
       "print_page           object\n",
       "subsection_name      object\n",
       "slideshow_credits    object\n",
       "dtype: object"
      ]
     },
     "execution_count": 5,
     "metadata": {},
     "output_type": "execute_result"
    }
   ],
   "source": [
    "articles.dtypes"
   ]
  },
  {
   "cell_type": "markdown",
   "id": "5572ea04-850c-4060-99e9-320faaef9912",
   "metadata": {},
   "source": [
    "Headline, Keywords, and Byline are dictionaries that have been converted to Strings. These should be converted back to their original data type in order to filter their information"
   ]
  },
  {
   "cell_type": "markdown",
   "id": "f8c9bae3-2d76-4e45-b0be-38efebdfe873",
   "metadata": {},
   "source": [
    "## Cleaning the string columns"
   ]
  },
  {
   "cell_type": "code",
   "execution_count": 6,
   "id": "c12ef509-83e3-4e40-87d5-c33b8b57c4fe",
   "metadata": {},
   "outputs": [],
   "source": [
    "string_cols = ['headline', 'keywords', 'byline']"
   ]
  },
  {
   "cell_type": "code",
   "execution_count": 7,
   "id": "6410a443-379f-4d0b-ab47-f172504454e5",
   "metadata": {},
   "outputs": [
    {
     "data": {
      "text/html": [
       "<div>\n",
       "<style scoped>\n",
       "    .dataframe tbody tr th:only-of-type {\n",
       "        vertical-align: middle;\n",
       "    }\n",
       "\n",
       "    .dataframe tbody tr th {\n",
       "        vertical-align: top;\n",
       "    }\n",
       "\n",
       "    .dataframe thead th {\n",
       "        text-align: right;\n",
       "    }\n",
       "</style>\n",
       "<table border=\"1\" class=\"dataframe\">\n",
       "  <thead>\n",
       "    <tr style=\"text-align: right;\">\n",
       "      <th></th>\n",
       "      <th>headline</th>\n",
       "      <th>keywords</th>\n",
       "      <th>byline</th>\n",
       "    </tr>\n",
       "  </thead>\n",
       "  <tbody>\n",
       "    <tr>\n",
       "      <th>0</th>\n",
       "      <td>{'main': \"U.S. and Britain Clearing Way for 'R...</td>\n",
       "      <td>[{'name': 'glocations', 'value': 'The United S...</td>\n",
       "      <td>{'original': 'By Christopher S. Wren and Jacqu...</td>\n",
       "    </tr>\n",
       "    <tr>\n",
       "      <th>1</th>\n",
       "      <td>{'main': \"The World: Information at Risk; What...</td>\n",
       "      <td>[{'name': 'subject', 'value': 'World Trade Cen...</td>\n",
       "      <td>{'original': 'By Todd S. Purdum', 'person': [{...</td>\n",
       "    </tr>\n",
       "    <tr>\n",
       "      <th>2</th>\n",
       "      <td>{'main': 'Art/Architecture; Images of Afghanis...</td>\n",
       "      <td>[{'name': 'glocations', 'value': 'Afghanistan'...</td>\n",
       "      <td>{'original': None, 'person': [], 'organization...</td>\n",
       "    </tr>\n",
       "    <tr>\n",
       "      <th>3</th>\n",
       "      <td>{'main': \"In 80's, Afghan Militias Used U.S. R...</td>\n",
       "      <td>[{'name': 'glocations', 'value': 'New York Cit...</td>\n",
       "      <td>{'original': 'By James Dao', 'person': [{'firs...</td>\n",
       "    </tr>\n",
       "    <tr>\n",
       "      <th>4</th>\n",
       "      <td>{'main': 'Thunderous Attack Heard in Kabul', '...</td>\n",
       "      <td>[{'name': 'glocations', 'value': 'Afghanistan'...</td>\n",
       "      <td>{'original': 'By David Rohde', 'person': [{'fi...</td>\n",
       "    </tr>\n",
       "    <tr>\n",
       "      <th>...</th>\n",
       "      <td>...</td>\n",
       "      <td>...</td>\n",
       "      <td>...</td>\n",
       "    </tr>\n",
       "    <tr>\n",
       "      <th>37393</th>\n",
       "      <td>{'main': 'How Does Biden Recover From His Week...</td>\n",
       "      <td>[{'name': 'persons', 'value': 'Biden, Joseph R...</td>\n",
       "      <td>{'original': 'By Gail Collins and Bret Stephen...</td>\n",
       "    </tr>\n",
       "    <tr>\n",
       "      <th>37394</th>\n",
       "      <td>{'main': 'Can Afghanistan’s Leading Broadcaste...</td>\n",
       "      <td>[{'name': 'subject', 'value': 'News and News M...</td>\n",
       "      <td>{'original': 'By Dan Bilefsky', 'person': [{'f...</td>\n",
       "    </tr>\n",
       "    <tr>\n",
       "      <th>37395</th>\n",
       "      <td>{'main': 'At Kabul airport, a sense of calm an...</td>\n",
       "      <td>[]</td>\n",
       "      <td>{'original': 'By Megan Specia, Jim Huylebroek,...</td>\n",
       "    </tr>\n",
       "    <tr>\n",
       "      <th>37396</th>\n",
       "      <td>{'main': 'North Korea Restarted Plutonium-Prod...</td>\n",
       "      <td>[{'name': 'glocations', 'value': 'North Korea'...</td>\n",
       "      <td>{'original': 'By Choe Sang-Hun', 'person': [{'...</td>\n",
       "    </tr>\n",
       "    <tr>\n",
       "      <th>37397</th>\n",
       "      <td>{'main': 'Is Vaccine Immunity Waning?', 'kicke...</td>\n",
       "      <td>[]</td>\n",
       "      <td>{'original': 'By David Leonhardt', 'person': [...</td>\n",
       "    </tr>\n",
       "  </tbody>\n",
       "</table>\n",
       "<p>37398 rows × 3 columns</p>\n",
       "</div>"
      ],
      "text/plain": [
       "                                                headline  \\\n",
       "0      {'main': \"U.S. and Britain Clearing Way for 'R...   \n",
       "1      {'main': \"The World: Information at Risk; What...   \n",
       "2      {'main': 'Art/Architecture; Images of Afghanis...   \n",
       "3      {'main': \"In 80's, Afghan Militias Used U.S. R...   \n",
       "4      {'main': 'Thunderous Attack Heard in Kabul', '...   \n",
       "...                                                  ...   \n",
       "37393  {'main': 'How Does Biden Recover From His Week...   \n",
       "37394  {'main': 'Can Afghanistan’s Leading Broadcaste...   \n",
       "37395  {'main': 'At Kabul airport, a sense of calm an...   \n",
       "37396  {'main': 'North Korea Restarted Plutonium-Prod...   \n",
       "37397  {'main': 'Is Vaccine Immunity Waning?', 'kicke...   \n",
       "\n",
       "                                                keywords  \\\n",
       "0      [{'name': 'glocations', 'value': 'The United S...   \n",
       "1      [{'name': 'subject', 'value': 'World Trade Cen...   \n",
       "2      [{'name': 'glocations', 'value': 'Afghanistan'...   \n",
       "3      [{'name': 'glocations', 'value': 'New York Cit...   \n",
       "4      [{'name': 'glocations', 'value': 'Afghanistan'...   \n",
       "...                                                  ...   \n",
       "37393  [{'name': 'persons', 'value': 'Biden, Joseph R...   \n",
       "37394  [{'name': 'subject', 'value': 'News and News M...   \n",
       "37395                                                 []   \n",
       "37396  [{'name': 'glocations', 'value': 'North Korea'...   \n",
       "37397                                                 []   \n",
       "\n",
       "                                                  byline  \n",
       "0      {'original': 'By Christopher S. Wren and Jacqu...  \n",
       "1      {'original': 'By Todd S. Purdum', 'person': [{...  \n",
       "2      {'original': None, 'person': [], 'organization...  \n",
       "3      {'original': 'By James Dao', 'person': [{'firs...  \n",
       "4      {'original': 'By David Rohde', 'person': [{'fi...  \n",
       "...                                                  ...  \n",
       "37393  {'original': 'By Gail Collins and Bret Stephen...  \n",
       "37394  {'original': 'By Dan Bilefsky', 'person': [{'f...  \n",
       "37395  {'original': 'By Megan Specia, Jim Huylebroek,...  \n",
       "37396  {'original': 'By Choe Sang-Hun', 'person': [{'...  \n",
       "37397  {'original': 'By David Leonhardt', 'person': [...  \n",
       "\n",
       "[37398 rows x 3 columns]"
      ]
     },
     "execution_count": 7,
     "metadata": {},
     "output_type": "execute_result"
    }
   ],
   "source": [
    "articles[string_cols]"
   ]
  },
  {
   "cell_type": "code",
   "execution_count": 8,
   "id": "0205fa10-de66-49fd-91a3-50e6200ea03a",
   "metadata": {},
   "outputs": [],
   "source": [
    "articles[string_cols] = pd.DataFrame({col:articles[col].map(lambda x: x.replace(\"\\'\", \"\\\"\")) for col in string_cols})"
   ]
  },
  {
   "cell_type": "code",
   "execution_count": 9,
   "id": "76f84169-620c-4e96-a060-63fcc27a15a8",
   "metadata": {
    "tags": []
   },
   "outputs": [
    {
     "data": {
      "text/html": [
       "<div>\n",
       "<style scoped>\n",
       "    .dataframe tbody tr th:only-of-type {\n",
       "        vertical-align: middle;\n",
       "    }\n",
       "\n",
       "    .dataframe tbody tr th {\n",
       "        vertical-align: top;\n",
       "    }\n",
       "\n",
       "    .dataframe thead th {\n",
       "        text-align: right;\n",
       "    }\n",
       "</style>\n",
       "<table border=\"1\" class=\"dataframe\">\n",
       "  <thead>\n",
       "    <tr style=\"text-align: right;\">\n",
       "      <th></th>\n",
       "      <th>headline</th>\n",
       "      <th>keywords</th>\n",
       "      <th>byline</th>\n",
       "    </tr>\n",
       "  </thead>\n",
       "  <tbody>\n",
       "    <tr>\n",
       "      <th>0</th>\n",
       "      <td>{\"main\": \"U.S. and Britain Clearing Way for \"R...</td>\n",
       "      <td>[{\"name\": \"glocations\", \"value\": \"The United S...</td>\n",
       "      <td>{\"original\": \"By Christopher S. Wren and Jacqu...</td>\n",
       "    </tr>\n",
       "    <tr>\n",
       "      <th>1</th>\n",
       "      <td>{\"main\": \"The World: Information at Risk; What...</td>\n",
       "      <td>[{\"name\": \"subject\", \"value\": \"World Trade Cen...</td>\n",
       "      <td>{\"original\": \"By Todd S. Purdum\", \"person\": [{...</td>\n",
       "    </tr>\n",
       "    <tr>\n",
       "      <th>2</th>\n",
       "      <td>{\"main\": \"Art/Architecture; Images of Afghanis...</td>\n",
       "      <td>[{\"name\": \"glocations\", \"value\": \"Afghanistan\"...</td>\n",
       "      <td>{\"original\": None, \"person\": [], \"organization...</td>\n",
       "    </tr>\n",
       "    <tr>\n",
       "      <th>3</th>\n",
       "      <td>{\"main\": \"In 80\"s, Afghan Militias Used U.S. R...</td>\n",
       "      <td>[{\"name\": \"glocations\", \"value\": \"New York Cit...</td>\n",
       "      <td>{\"original\": \"By James Dao\", \"person\": [{\"firs...</td>\n",
       "    </tr>\n",
       "    <tr>\n",
       "      <th>4</th>\n",
       "      <td>{\"main\": \"Thunderous Attack Heard in Kabul\", \"...</td>\n",
       "      <td>[{\"name\": \"glocations\", \"value\": \"Afghanistan\"...</td>\n",
       "      <td>{\"original\": \"By David Rohde\", \"person\": [{\"fi...</td>\n",
       "    </tr>\n",
       "    <tr>\n",
       "      <th>...</th>\n",
       "      <td>...</td>\n",
       "      <td>...</td>\n",
       "      <td>...</td>\n",
       "    </tr>\n",
       "    <tr>\n",
       "      <th>37393</th>\n",
       "      <td>{\"main\": \"How Does Biden Recover From His Week...</td>\n",
       "      <td>[{\"name\": \"persons\", \"value\": \"Biden, Joseph R...</td>\n",
       "      <td>{\"original\": \"By Gail Collins and Bret Stephen...</td>\n",
       "    </tr>\n",
       "    <tr>\n",
       "      <th>37394</th>\n",
       "      <td>{\"main\": \"Can Afghanistan’s Leading Broadcaste...</td>\n",
       "      <td>[{\"name\": \"subject\", \"value\": \"News and News M...</td>\n",
       "      <td>{\"original\": \"By Dan Bilefsky\", \"person\": [{\"f...</td>\n",
       "    </tr>\n",
       "    <tr>\n",
       "      <th>37395</th>\n",
       "      <td>{\"main\": \"At Kabul airport, a sense of calm an...</td>\n",
       "      <td>[]</td>\n",
       "      <td>{\"original\": \"By Megan Specia, Jim Huylebroek,...</td>\n",
       "    </tr>\n",
       "    <tr>\n",
       "      <th>37396</th>\n",
       "      <td>{\"main\": \"North Korea Restarted Plutonium-Prod...</td>\n",
       "      <td>[{\"name\": \"glocations\", \"value\": \"North Korea\"...</td>\n",
       "      <td>{\"original\": \"By Choe Sang-Hun\", \"person\": [{\"...</td>\n",
       "    </tr>\n",
       "    <tr>\n",
       "      <th>37397</th>\n",
       "      <td>{\"main\": \"Is Vaccine Immunity Waning?\", \"kicke...</td>\n",
       "      <td>[]</td>\n",
       "      <td>{\"original\": \"By David Leonhardt\", \"person\": [...</td>\n",
       "    </tr>\n",
       "  </tbody>\n",
       "</table>\n",
       "<p>37398 rows × 3 columns</p>\n",
       "</div>"
      ],
      "text/plain": [
       "                                                headline  \\\n",
       "0      {\"main\": \"U.S. and Britain Clearing Way for \"R...   \n",
       "1      {\"main\": \"The World: Information at Risk; What...   \n",
       "2      {\"main\": \"Art/Architecture; Images of Afghanis...   \n",
       "3      {\"main\": \"In 80\"s, Afghan Militias Used U.S. R...   \n",
       "4      {\"main\": \"Thunderous Attack Heard in Kabul\", \"...   \n",
       "...                                                  ...   \n",
       "37393  {\"main\": \"How Does Biden Recover From His Week...   \n",
       "37394  {\"main\": \"Can Afghanistan’s Leading Broadcaste...   \n",
       "37395  {\"main\": \"At Kabul airport, a sense of calm an...   \n",
       "37396  {\"main\": \"North Korea Restarted Plutonium-Prod...   \n",
       "37397  {\"main\": \"Is Vaccine Immunity Waning?\", \"kicke...   \n",
       "\n",
       "                                                keywords  \\\n",
       "0      [{\"name\": \"glocations\", \"value\": \"The United S...   \n",
       "1      [{\"name\": \"subject\", \"value\": \"World Trade Cen...   \n",
       "2      [{\"name\": \"glocations\", \"value\": \"Afghanistan\"...   \n",
       "3      [{\"name\": \"glocations\", \"value\": \"New York Cit...   \n",
       "4      [{\"name\": \"glocations\", \"value\": \"Afghanistan\"...   \n",
       "...                                                  ...   \n",
       "37393  [{\"name\": \"persons\", \"value\": \"Biden, Joseph R...   \n",
       "37394  [{\"name\": \"subject\", \"value\": \"News and News M...   \n",
       "37395                                                 []   \n",
       "37396  [{\"name\": \"glocations\", \"value\": \"North Korea\"...   \n",
       "37397                                                 []   \n",
       "\n",
       "                                                  byline  \n",
       "0      {\"original\": \"By Christopher S. Wren and Jacqu...  \n",
       "1      {\"original\": \"By Todd S. Purdum\", \"person\": [{...  \n",
       "2      {\"original\": None, \"person\": [], \"organization...  \n",
       "3      {\"original\": \"By James Dao\", \"person\": [{\"firs...  \n",
       "4      {\"original\": \"By David Rohde\", \"person\": [{\"fi...  \n",
       "...                                                  ...  \n",
       "37393  {\"original\": \"By Gail Collins and Bret Stephen...  \n",
       "37394  {\"original\": \"By Dan Bilefsky\", \"person\": [{\"f...  \n",
       "37395  {\"original\": \"By Megan Specia, Jim Huylebroek,...  \n",
       "37396  {\"original\": \"By Choe Sang-Hun\", \"person\": [{\"...  \n",
       "37397  {\"original\": \"By David Leonhardt\", \"person\": [...  \n",
       "\n",
       "[37398 rows x 3 columns]"
      ]
     },
     "execution_count": 9,
     "metadata": {},
     "output_type": "execute_result"
    }
   ],
   "source": [
    "articles[string_cols]"
   ]
  },
  {
   "cell_type": "markdown",
   "id": "3e95f444-e726-4a29-99ac-41d1225b147a",
   "metadata": {},
   "source": [
    "### Headline Column"
   ]
  },
  {
   "cell_type": "code",
   "execution_count": 10,
   "id": "ecc139ff-321c-4bc8-bd70-0ad7d58f177e",
   "metadata": {},
   "outputs": [
    {
     "data": {
      "text/plain": [
       "'{\"main\": \"U.S. and Britain Clearing Way for \"Relentless\" Campaign, Bush Says\", \"kicker\": None, \"content_kicker\": None, \"print_headline\": \"U.S. and Britain Clearing Way for \"Relentless\" Campaign, Bush Says\", \"name\": None, \"seo\": None, \"sub\": None}'"
      ]
     },
     "execution_count": 10,
     "metadata": {},
     "output_type": "execute_result"
    }
   ],
   "source": [
    "articles['headline'][0]"
   ]
  },
  {
   "cell_type": "code",
   "execution_count": 11,
   "id": "56971c71-3b42-427c-983e-a097db00facf",
   "metadata": {},
   "outputs": [
    {
     "data": {
      "text/plain": [
       "'\"U.S. and Britain Clearing Way for \"Relentless\" Campaign, Bush Says\"'"
      ]
     },
     "execution_count": 11,
     "metadata": {},
     "output_type": "execute_result"
    }
   ],
   "source": [
    "# code to extract only the main section of headline\n",
    "articles['headline'][0].split(', \"kicker\"')[0][1:].split(': ')[1]"
   ]
  },
  {
   "cell_type": "code",
   "execution_count": 12,
   "id": "5d52e2e0-6e48-40c5-bd26-7b8f13c709d9",
   "metadata": {},
   "outputs": [],
   "source": [
    "# universal headline strip\n",
    "articles['headline'] = articles['headline'].map(lambda x: x.split(', \"kicker\"')[0][1:].split(': ')[1]) "
   ]
  },
  {
   "cell_type": "markdown",
   "id": "a9009047-8839-4a77-acf9-9c3b56f27f02",
   "metadata": {},
   "source": [
    "### Byline Column"
   ]
  },
  {
   "cell_type": "code",
   "execution_count": 13,
   "id": "c4f30fd0-4ac8-45fa-81e6-02ee70210e39",
   "metadata": {},
   "outputs": [
    {
     "data": {
      "text/plain": [
       "'{\"original\": \"By Christopher S. Wren and Jacques Steinberg\", \"person\": [{\"firstname\": \"Christopher\", \"middlename\": \"S.\", \"lastname\": \"Wren\", \"qualifier\": None, \"title\": None, \"role\": \"reported\", \"organization\": \"\", \"rank\": 1}, {\"firstname\": \"Jacques\", \"middlename\": None, \"lastname\": \"Steinberg\", \"qualifier\": None, \"title\": None, \"role\": \"reported\", \"organization\": \"\", \"rank\": 2}], \"organization\": None}'"
      ]
     },
     "execution_count": 13,
     "metadata": {},
     "output_type": "execute_result"
    }
   ],
   "source": [
    "articles['byline'][0]"
   ]
  },
  {
   "cell_type": "code",
   "execution_count": 14,
   "id": "2ada6890-99d6-491a-98c5-b6e27cc9149e",
   "metadata": {},
   "outputs": [],
   "source": [
    "articles.drop(columns='byline', inplace=True)"
   ]
  },
  {
   "cell_type": "markdown",
   "id": "45982044-7a03-41a3-aab0-effc11177f19",
   "metadata": {},
   "source": [
    "__Byline can be dropped__"
   ]
  },
  {
   "cell_type": "markdown",
   "id": "69c8d608-290d-488a-9bc9-a1e6dc67f954",
   "metadata": {},
   "source": [
    "### Keywords Column"
   ]
  },
  {
   "cell_type": "code",
   "execution_count": 15,
   "id": "b412f6a0-5afc-463b-9ba9-53f63cce674b",
   "metadata": {},
   "outputs": [
    {
     "data": {
      "text/plain": [
       "'[{\"name\": \"glocations\", \"value\": \"The United States\", \"rank\": 1, \"major\": \"N\"}, {\"name\": \"organizations\", \"value\": \"Taliban\", \"rank\": 2, \"major\": \"N\"}, {\"name\": \"persons\", \"value\": \"Rhode, David\", \"rank\": 3, \"major\": \"N\"}, {\"name\": \"subject\", \"value\": \"Television\", \"rank\": 4, \"major\": \"N\"}, {\"name\": \"subject\", \"value\": \"Terrorism\", \"rank\": 5, \"major\": \"N\"}, {\"name\": \"subject\", \"value\": \"Airlines and Airplanes\", \"rank\": 6, \"major\": \"N\"}]'"
      ]
     },
     "execution_count": 15,
     "metadata": {},
     "output_type": "execute_result"
    }
   ],
   "source": [
    "articles['keywords'][0]"
   ]
  },
  {
   "cell_type": "code",
   "execution_count": 16,
   "id": "eb45f29c-b641-4d3f-8dfc-ae96173e6eb8",
   "metadata": {},
   "outputs": [],
   "source": [
    "def Convert_dict(lst):\n",
    "    res_dct = {lst[i]: lst[i + 1] for i in range(0, len(lst), 2)}\n",
    "    return res_dct"
   ]
  },
  {
   "cell_type": "code",
   "execution_count": 17,
   "id": "84ea4b4d-3c92-4652-9aba-c1d402e6bfcc",
   "metadata": {},
   "outputs": [],
   "source": [
    "def find_keywords(kys_dict):\n",
    "    keywords_list = []\n",
    "    for kword in kys_dict[2: -2].split('}, {'):\n",
    "        for item in kword.split(', '):\n",
    "            keywords_list.append([item2.strip('\"\"') for item2 in item.split(': ')])\n",
    "\n",
    "    keywords_dict_list = []\n",
    "    for items in [Convert_dict(kword) for kword in keywords_list if len(kword) %2 ==0]:\n",
    "        keywords_dict_list.append(''.join(v for k,v in items.items() if k == 'value'))\n",
    "\n",
    "    for item in keywords_dict_list:\n",
    "        if len(item) <= 1:\n",
    "            keywords_dict_list.remove(item)\n",
    "    return ' '.join(keywords_dict_list)"
   ]
  },
  {
   "cell_type": "code",
   "execution_count": 18,
   "id": "e4fed15e-982b-45e7-95d7-f9556c62a8fc",
   "metadata": {},
   "outputs": [
    {
     "data": {
      "text/plain": [
       "'Germany New York City Washington (DC) Bush bin Laden World Trade Center (NYC) Airlines and Airplanes United States International Relations Pentagon Building Missing Persons    Freedom of Speech and Expression    Hijacking    Terrorism    UNITED STATES ARMAMENT AND DEFENSE  '"
      ]
     },
     "execution_count": 18,
     "metadata": {},
     "output_type": "execute_result"
    }
   ],
   "source": [
    "find_keywords(articles['keywords'][52])"
   ]
  },
  {
   "cell_type": "code",
   "execution_count": 19,
   "id": "517be245-8e10-46e3-a4cc-8b3d8c34fc82",
   "metadata": {
    "tags": []
   },
   "outputs": [],
   "source": [
    "articles['keywords'] = articles['keywords'].map(lambda x: find_keywords(x)) "
   ]
  },
  {
   "cell_type": "markdown",
   "id": "96a7ab30-4f27-4153-81ee-683b03b6754a",
   "metadata": {},
   "source": [
    "__Keywords have been extracted and joined to one string__"
   ]
  },
  {
   "cell_type": "markdown",
   "id": "30abcb62-b3d9-46e3-9a12-158d1328cb1a",
   "metadata": {},
   "source": [
    "### Check Columns"
   ]
  },
  {
   "cell_type": "code",
   "execution_count": 20,
   "id": "d7442690-9936-44bd-9904-6102f5111a4b",
   "metadata": {},
   "outputs": [
    {
     "data": {
      "text/html": [
       "<div>\n",
       "<style scoped>\n",
       "    .dataframe tbody tr th:only-of-type {\n",
       "        vertical-align: middle;\n",
       "    }\n",
       "\n",
       "    .dataframe tbody tr th {\n",
       "        vertical-align: top;\n",
       "    }\n",
       "\n",
       "    .dataframe thead th {\n",
       "        text-align: right;\n",
       "    }\n",
       "</style>\n",
       "<table border=\"1\" class=\"dataframe\">\n",
       "  <thead>\n",
       "    <tr style=\"text-align: right;\">\n",
       "      <th></th>\n",
       "      <th>abstract</th>\n",
       "      <th>web_url</th>\n",
       "      <th>snippet</th>\n",
       "      <th>lead_paragraph</th>\n",
       "      <th>source</th>\n",
       "      <th>multimedia</th>\n",
       "      <th>headline</th>\n",
       "      <th>keywords</th>\n",
       "      <th>pub_date</th>\n",
       "      <th>document_type</th>\n",
       "      <th>news_desk</th>\n",
       "      <th>section_name</th>\n",
       "      <th>type_of_material</th>\n",
       "      <th>_id</th>\n",
       "      <th>word_count</th>\n",
       "      <th>uri</th>\n",
       "      <th>print_section</th>\n",
       "      <th>print_page</th>\n",
       "      <th>subsection_name</th>\n",
       "      <th>slideshow_credits</th>\n",
       "    </tr>\n",
       "  </thead>\n",
       "  <tbody>\n",
       "    <tr>\n",
       "      <th>0</th>\n",
       "      <td>The United States, supported by Britain, today...</td>\n",
       "      <td>https://www.nytimes.com/2001/10/07/internation...</td>\n",
       "      <td>The United States, supported by Britain, today...</td>\n",
       "      <td>The United States, supported by Britain, toda...</td>\n",
       "      <td>The New York Times</td>\n",
       "      <td>[]</td>\n",
       "      <td>\"U.S. and Britain Clearing Way for \"Relentless...</td>\n",
       "      <td>The United States Taliban Rhode Television  Te...</td>\n",
       "      <td>2001-10-07T05:00:00+0000</td>\n",
       "      <td>article</td>\n",
       "      <td>International</td>\n",
       "      <td>World</td>\n",
       "      <td>News</td>\n",
       "      <td>nyt://article/02612e18-76c0-5447-bace-71473568...</td>\n",
       "      <td>1333</td>\n",
       "      <td>nyt://article/02612e18-76c0-5447-bace-71473568...</td>\n",
       "      <td>NaN</td>\n",
       "      <td>NaN</td>\n",
       "      <td>NaN</td>\n",
       "      <td>NaN</td>\n",
       "    </tr>\n",
       "    <tr>\n",
       "      <th>1</th>\n",
       "      <td>Government can be expected to try to control, ...</td>\n",
       "      <td>https://www.nytimes.com/2001/10/07/weekinrevie...</td>\n",
       "      <td>Government can be expected to try to control, ...</td>\n",
       "      <td>IT will be, Americans have already been warned...</td>\n",
       "      <td>The New York Times</td>\n",
       "      <td>[]</td>\n",
       "      <td>\"The World</td>\n",
       "      <td>World Trade Center (NYC) Airlines and Airplane...</td>\n",
       "      <td>2001-10-07T05:00:00+0000</td>\n",
       "      <td>article</td>\n",
       "      <td>Week in Review Desk</td>\n",
       "      <td>Week in Review</td>\n",
       "      <td>News</td>\n",
       "      <td>nyt://article/0abd157f-d390-5787-bf89-4e87dad4...</td>\n",
       "      <td>1322</td>\n",
       "      <td>nyt://article/0abd157f-d390-5787-bf89-4e87dad4...</td>\n",
       "      <td>4</td>\n",
       "      <td>1.0</td>\n",
       "      <td>NaN</td>\n",
       "      <td>NaN</td>\n",
       "    </tr>\n",
       "    <tr>\n",
       "      <th>2</th>\n",
       "      <td>Richard B Woodward interviews photographer Edw...</td>\n",
       "      <td>https://www.nytimes.com/2001/10/07/arts/art-ar...</td>\n",
       "      <td>Richard B Woodward interviews photographer Edw...</td>\n",
       "      <td>THE photographer Edward Grazda first visited A...</td>\n",
       "      <td>The New York Times</td>\n",
       "      <td>[]</td>\n",
       "      <td>\"Art/Architecture; Images of Afghanistan, Befo...</td>\n",
       "      <td>Afghanistan Grazda Woodward   Photography</td>\n",
       "      <td>2001-10-07T05:00:00+0000</td>\n",
       "      <td>article</td>\n",
       "      <td>Arts and Leisure Desk</td>\n",
       "      <td>Arts</td>\n",
       "      <td>Interview</td>\n",
       "      <td>nyt://article/15581e37-54ea-5aa4-bc80-34588ab1...</td>\n",
       "      <td>1638</td>\n",
       "      <td>nyt://article/15581e37-54ea-5aa4-bc80-34588ab1...</td>\n",
       "      <td>2</td>\n",
       "      <td>34.0</td>\n",
       "      <td>NaN</td>\n",
       "      <td>NaN</td>\n",
       "    </tr>\n",
       "    <tr>\n",
       "      <th>3</th>\n",
       "      <td>Violence Policy Center, Washington-based group...</td>\n",
       "      <td>https://www.nytimes.com/2001/10/07/us/a-nation...</td>\n",
       "      <td>Violence Policy Center, Washington-based group...</td>\n",
       "      <td>In the late 1980's, an American-based agent fo...</td>\n",
       "      <td>The New York Times</td>\n",
       "      <td>[]</td>\n",
       "      <td>\"In 80\"s, Afghan Militias Used U.S. Rifles\"</td>\n",
       "      <td>New York City Russia Washington (DC) Afghanist...</td>\n",
       "      <td>2001-10-07T05:00:00+0000</td>\n",
       "      <td>article</td>\n",
       "      <td>National Desk</td>\n",
       "      <td>U.S.</td>\n",
       "      <td>News</td>\n",
       "      <td>nyt://article/17f9cbdb-ff36-5df1-8a37-5c02edbb...</td>\n",
       "      <td>603</td>\n",
       "      <td>nyt://article/17f9cbdb-ff36-5df1-8a37-5c02edbb...</td>\n",
       "      <td>B</td>\n",
       "      <td>1.0</td>\n",
       "      <td>NaN</td>\n",
       "      <td>NaN</td>\n",
       "    </tr>\n",
       "    <tr>\n",
       "      <th>4</th>\n",
       "      <td>Sending bright flashes of light and loud concu...</td>\n",
       "      <td>https://www.nytimes.com/2001/10/07/internation...</td>\n",
       "      <td>Sending bright flashes of light and loud concu...</td>\n",
       "      <td>TOPDARA, Afghanistan, Oct. 7 — Sending bright...</td>\n",
       "      <td>The New York Times</td>\n",
       "      <td>[]</td>\n",
       "      <td>\"Thunderous Attack Heard in Kabul\"</td>\n",
       "      <td>Afghanistan Taliban Dostum United States Polit...</td>\n",
       "      <td>2001-10-07T05:00:00+0000</td>\n",
       "      <td>article</td>\n",
       "      <td>International</td>\n",
       "      <td>World</td>\n",
       "      <td>News</td>\n",
       "      <td>nyt://article/1a2a8209-9dd4-501b-a988-0c2adfc9...</td>\n",
       "      <td>611</td>\n",
       "      <td>nyt://article/1a2a8209-9dd4-501b-a988-0c2adfc9...</td>\n",
       "      <td>NaN</td>\n",
       "      <td>NaN</td>\n",
       "      <td>NaN</td>\n",
       "      <td>NaN</td>\n",
       "    </tr>\n",
       "  </tbody>\n",
       "</table>\n",
       "</div>"
      ],
      "text/plain": [
       "                                            abstract  \\\n",
       "0  The United States, supported by Britain, today...   \n",
       "1  Government can be expected to try to control, ...   \n",
       "2  Richard B Woodward interviews photographer Edw...   \n",
       "3  Violence Policy Center, Washington-based group...   \n",
       "4  Sending bright flashes of light and loud concu...   \n",
       "\n",
       "                                             web_url  \\\n",
       "0  https://www.nytimes.com/2001/10/07/internation...   \n",
       "1  https://www.nytimes.com/2001/10/07/weekinrevie...   \n",
       "2  https://www.nytimes.com/2001/10/07/arts/art-ar...   \n",
       "3  https://www.nytimes.com/2001/10/07/us/a-nation...   \n",
       "4  https://www.nytimes.com/2001/10/07/internation...   \n",
       "\n",
       "                                             snippet  \\\n",
       "0  The United States, supported by Britain, today...   \n",
       "1  Government can be expected to try to control, ...   \n",
       "2  Richard B Woodward interviews photographer Edw...   \n",
       "3  Violence Policy Center, Washington-based group...   \n",
       "4  Sending bright flashes of light and loud concu...   \n",
       "\n",
       "                                      lead_paragraph              source  \\\n",
       "0   The United States, supported by Britain, toda...  The New York Times   \n",
       "1  IT will be, Americans have already been warned...  The New York Times   \n",
       "2  THE photographer Edward Grazda first visited A...  The New York Times   \n",
       "3  In the late 1980's, an American-based agent fo...  The New York Times   \n",
       "4   TOPDARA, Afghanistan, Oct. 7 — Sending bright...  The New York Times   \n",
       "\n",
       "  multimedia                                           headline  \\\n",
       "0         []  \"U.S. and Britain Clearing Way for \"Relentless...   \n",
       "1         []                                         \"The World   \n",
       "2         []  \"Art/Architecture; Images of Afghanistan, Befo...   \n",
       "3         []        \"In 80\"s, Afghan Militias Used U.S. Rifles\"   \n",
       "4         []                 \"Thunderous Attack Heard in Kabul\"   \n",
       "\n",
       "                                            keywords  \\\n",
       "0  The United States Taliban Rhode Television  Te...   \n",
       "1  World Trade Center (NYC) Airlines and Airplane...   \n",
       "2        Afghanistan Grazda Woodward   Photography     \n",
       "3  New York City Russia Washington (DC) Afghanist...   \n",
       "4  Afghanistan Taliban Dostum United States Polit...   \n",
       "\n",
       "                   pub_date document_type              news_desk  \\\n",
       "0  2001-10-07T05:00:00+0000       article          International   \n",
       "1  2001-10-07T05:00:00+0000       article    Week in Review Desk   \n",
       "2  2001-10-07T05:00:00+0000       article  Arts and Leisure Desk   \n",
       "3  2001-10-07T05:00:00+0000       article          National Desk   \n",
       "4  2001-10-07T05:00:00+0000       article          International   \n",
       "\n",
       "     section_name type_of_material  \\\n",
       "0           World             News   \n",
       "1  Week in Review             News   \n",
       "2            Arts        Interview   \n",
       "3            U.S.             News   \n",
       "4           World             News   \n",
       "\n",
       "                                                 _id  word_count  \\\n",
       "0  nyt://article/02612e18-76c0-5447-bace-71473568...        1333   \n",
       "1  nyt://article/0abd157f-d390-5787-bf89-4e87dad4...        1322   \n",
       "2  nyt://article/15581e37-54ea-5aa4-bc80-34588ab1...        1638   \n",
       "3  nyt://article/17f9cbdb-ff36-5df1-8a37-5c02edbb...         603   \n",
       "4  nyt://article/1a2a8209-9dd4-501b-a988-0c2adfc9...         611   \n",
       "\n",
       "                                                 uri print_section print_page  \\\n",
       "0  nyt://article/02612e18-76c0-5447-bace-71473568...           NaN        NaN   \n",
       "1  nyt://article/0abd157f-d390-5787-bf89-4e87dad4...             4        1.0   \n",
       "2  nyt://article/15581e37-54ea-5aa4-bc80-34588ab1...             2       34.0   \n",
       "3  nyt://article/17f9cbdb-ff36-5df1-8a37-5c02edbb...             B        1.0   \n",
       "4  nyt://article/1a2a8209-9dd4-501b-a988-0c2adfc9...           NaN        NaN   \n",
       "\n",
       "  subsection_name slideshow_credits  \n",
       "0             NaN               NaN  \n",
       "1             NaN               NaN  \n",
       "2             NaN               NaN  \n",
       "3             NaN               NaN  \n",
       "4             NaN               NaN  "
      ]
     },
     "execution_count": 20,
     "metadata": {},
     "output_type": "execute_result"
    }
   ],
   "source": [
    "articles.head()"
   ]
  },
  {
   "cell_type": "markdown",
   "id": "a3e8bca7-d087-44c7-9e38-03aad84731d8",
   "metadata": {},
   "source": [
    "### Convert time to pandas datetime"
   ]
  },
  {
   "cell_type": "code",
   "execution_count": 21,
   "id": "2312b19a-5aa1-4fda-b7ec-43d64defa15f",
   "metadata": {},
   "outputs": [],
   "source": [
    "articles['pub_date'] = pd.to_datetime(articles['pub_date'])"
   ]
  },
  {
   "cell_type": "markdown",
   "id": "d5256771-61d6-4afe-88b0-09e994f87a4e",
   "metadata": {},
   "source": [
    "### Check datatypes"
   ]
  },
  {
   "cell_type": "code",
   "execution_count": 22,
   "id": "7aed7a57-86fa-4e62-a062-317e9bdc13d1",
   "metadata": {
    "tags": []
   },
   "outputs": [
    {
     "data": {
      "text/plain": [
       "abstract                          object\n",
       "web_url                           object\n",
       "snippet                           object\n",
       "lead_paragraph                    object\n",
       "source                            object\n",
       "multimedia                        object\n",
       "headline                          object\n",
       "keywords                          object\n",
       "pub_date             datetime64[ns, UTC]\n",
       "document_type                     object\n",
       "news_desk                         object\n",
       "section_name                      object\n",
       "type_of_material                  object\n",
       "_id                               object\n",
       "word_count                         int64\n",
       "uri                               object\n",
       "print_section                     object\n",
       "print_page                        object\n",
       "subsection_name                   object\n",
       "slideshow_credits                 object\n",
       "dtype: object"
      ]
     },
     "execution_count": 22,
     "metadata": {},
     "output_type": "execute_result"
    }
   ],
   "source": [
    "articles.dtypes"
   ]
  },
  {
   "cell_type": "markdown",
   "id": "603b0be9-ebea-401e-8d66-fe51759565b3",
   "metadata": {},
   "source": [
    "### Remove Unnecessary Columns"
   ]
  },
  {
   "cell_type": "code",
   "execution_count": 23,
   "id": "0152c167-9917-42d6-a09a-f81cfc142159",
   "metadata": {},
   "outputs": [],
   "source": [
    "articles.drop(\n",
    "    columns=['web_url', 'source', 'multimedia','document_type', '_id', 'web_url', 'print_section','print_page', 'subsection_name', 'slideshow_credits'], \n",
    "    inplace=True\n",
    ")"
   ]
  },
  {
   "cell_type": "markdown",
   "id": "6389ac70-e2ed-4744-a924-f2b39ab6c5b7",
   "metadata": {},
   "source": [
    "## Adding feature columns\n",
    "___"
   ]
  },
  {
   "cell_type": "code",
   "execution_count": 24,
   "id": "480f557e-04ac-43f4-a91e-4271f0988f40",
   "metadata": {},
   "outputs": [],
   "source": [
    "article_text_cols = ['abstract', 'snippet', 'lead_paragraph', 'headline']"
   ]
  },
  {
   "cell_type": "code",
   "execution_count": 25,
   "id": "94392839-3758-479d-8c54-1b35d233403e",
   "metadata": {},
   "outputs": [
    {
     "data": {
      "text/html": [
       "<div>\n",
       "<style scoped>\n",
       "    .dataframe tbody tr th:only-of-type {\n",
       "        vertical-align: middle;\n",
       "    }\n",
       "\n",
       "    .dataframe tbody tr th {\n",
       "        vertical-align: top;\n",
       "    }\n",
       "\n",
       "    .dataframe thead th {\n",
       "        text-align: right;\n",
       "    }\n",
       "</style>\n",
       "<table border=\"1\" class=\"dataframe\">\n",
       "  <thead>\n",
       "    <tr style=\"text-align: right;\">\n",
       "      <th></th>\n",
       "      <th>abstract</th>\n",
       "      <th>snippet</th>\n",
       "      <th>lead_paragraph</th>\n",
       "      <th>headline</th>\n",
       "    </tr>\n",
       "  </thead>\n",
       "  <tbody>\n",
       "    <tr>\n",
       "      <th>0</th>\n",
       "      <td>The United States, supported by Britain, today...</td>\n",
       "      <td>The United States, supported by Britain, today...</td>\n",
       "      <td>The United States, supported by Britain, toda...</td>\n",
       "      <td>\"U.S. and Britain Clearing Way for \"Relentless...</td>\n",
       "    </tr>\n",
       "    <tr>\n",
       "      <th>1</th>\n",
       "      <td>Government can be expected to try to control, ...</td>\n",
       "      <td>Government can be expected to try to control, ...</td>\n",
       "      <td>IT will be, Americans have already been warned...</td>\n",
       "      <td>\"The World</td>\n",
       "    </tr>\n",
       "    <tr>\n",
       "      <th>2</th>\n",
       "      <td>Richard B Woodward interviews photographer Edw...</td>\n",
       "      <td>Richard B Woodward interviews photographer Edw...</td>\n",
       "      <td>THE photographer Edward Grazda first visited A...</td>\n",
       "      <td>\"Art/Architecture; Images of Afghanistan, Befo...</td>\n",
       "    </tr>\n",
       "    <tr>\n",
       "      <th>3</th>\n",
       "      <td>Violence Policy Center, Washington-based group...</td>\n",
       "      <td>Violence Policy Center, Washington-based group...</td>\n",
       "      <td>In the late 1980's, an American-based agent fo...</td>\n",
       "      <td>\"In 80\"s, Afghan Militias Used U.S. Rifles\"</td>\n",
       "    </tr>\n",
       "    <tr>\n",
       "      <th>4</th>\n",
       "      <td>Sending bright flashes of light and loud concu...</td>\n",
       "      <td>Sending bright flashes of light and loud concu...</td>\n",
       "      <td>TOPDARA, Afghanistan, Oct. 7 — Sending bright...</td>\n",
       "      <td>\"Thunderous Attack Heard in Kabul\"</td>\n",
       "    </tr>\n",
       "    <tr>\n",
       "      <th>...</th>\n",
       "      <td>...</td>\n",
       "      <td>...</td>\n",
       "      <td>...</td>\n",
       "      <td>...</td>\n",
       "    </tr>\n",
       "    <tr>\n",
       "      <th>37393</th>\n",
       "      <td>It won’t be easy, but it won’t be impossible, ...</td>\n",
       "      <td>It won’t be easy, but it won’t be impossible, ...</td>\n",
       "      <td>Bret Stephens: Hello, Gail. I hope these last ...</td>\n",
       "      <td>\"How Does Biden Recover From His Week From Hell?\"</td>\n",
       "    </tr>\n",
       "    <tr>\n",
       "      <th>37394</th>\n",
       "      <td>Tolo came to prominence with hard-hitting news...</td>\n",
       "      <td>Tolo came to prominence with hard-hitting news...</td>\n",
       "      <td>Over the past two decades, the Afghan broadcas...</td>\n",
       "      <td>\"Can Afghanistan’s Leading Broadcaster Survive...</td>\n",
       "    </tr>\n",
       "    <tr>\n",
       "      <th>37395</th>\n",
       "      <td>In the final hours of the American military pr...</td>\n",
       "      <td>NaN</td>\n",
       "      <td>In the final hours of the American military pr...</td>\n",
       "      <td>\"At Kabul airport, a sense of calm and resigna...</td>\n",
       "    </tr>\n",
       "    <tr>\n",
       "      <th>37396</th>\n",
       "      <td>​The activities at the sprawling nuclear compl...</td>\n",
       "      <td>​The activities at the sprawling nuclear compl...</td>\n",
       "      <td>SEOUL — North Korea appears to have restarted ...</td>\n",
       "      <td>\"North Korea Restarted Plutonium-Producing Rea...</td>\n",
       "    </tr>\n",
       "    <tr>\n",
       "      <th>37397</th>\n",
       "      <td>It may not really be waning much — which means...</td>\n",
       "      <td>It may not really be waning much — which means...</td>\n",
       "      <td>Late last month, researchers in Israel release...</td>\n",
       "      <td>\"Is Vaccine Immunity Waning?\"</td>\n",
       "    </tr>\n",
       "  </tbody>\n",
       "</table>\n",
       "<p>37398 rows × 4 columns</p>\n",
       "</div>"
      ],
      "text/plain": [
       "                                                abstract  \\\n",
       "0      The United States, supported by Britain, today...   \n",
       "1      Government can be expected to try to control, ...   \n",
       "2      Richard B Woodward interviews photographer Edw...   \n",
       "3      Violence Policy Center, Washington-based group...   \n",
       "4      Sending bright flashes of light and loud concu...   \n",
       "...                                                  ...   \n",
       "37393  It won’t be easy, but it won’t be impossible, ...   \n",
       "37394  Tolo came to prominence with hard-hitting news...   \n",
       "37395  In the final hours of the American military pr...   \n",
       "37396  ​The activities at the sprawling nuclear compl...   \n",
       "37397  It may not really be waning much — which means...   \n",
       "\n",
       "                                                 snippet  \\\n",
       "0      The United States, supported by Britain, today...   \n",
       "1      Government can be expected to try to control, ...   \n",
       "2      Richard B Woodward interviews photographer Edw...   \n",
       "3      Violence Policy Center, Washington-based group...   \n",
       "4      Sending bright flashes of light and loud concu...   \n",
       "...                                                  ...   \n",
       "37393  It won’t be easy, but it won’t be impossible, ...   \n",
       "37394  Tolo came to prominence with hard-hitting news...   \n",
       "37395                                                NaN   \n",
       "37396  ​The activities at the sprawling nuclear compl...   \n",
       "37397  It may not really be waning much — which means...   \n",
       "\n",
       "                                          lead_paragraph  \\\n",
       "0       The United States, supported by Britain, toda...   \n",
       "1      IT will be, Americans have already been warned...   \n",
       "2      THE photographer Edward Grazda first visited A...   \n",
       "3      In the late 1980's, an American-based agent fo...   \n",
       "4       TOPDARA, Afghanistan, Oct. 7 — Sending bright...   \n",
       "...                                                  ...   \n",
       "37393  Bret Stephens: Hello, Gail. I hope these last ...   \n",
       "37394  Over the past two decades, the Afghan broadcas...   \n",
       "37395  In the final hours of the American military pr...   \n",
       "37396  SEOUL — North Korea appears to have restarted ...   \n",
       "37397  Late last month, researchers in Israel release...   \n",
       "\n",
       "                                                headline  \n",
       "0      \"U.S. and Britain Clearing Way for \"Relentless...  \n",
       "1                                             \"The World  \n",
       "2      \"Art/Architecture; Images of Afghanistan, Befo...  \n",
       "3            \"In 80\"s, Afghan Militias Used U.S. Rifles\"  \n",
       "4                     \"Thunderous Attack Heard in Kabul\"  \n",
       "...                                                  ...  \n",
       "37393  \"How Does Biden Recover From His Week From Hell?\"  \n",
       "37394  \"Can Afghanistan’s Leading Broadcaster Survive...  \n",
       "37395  \"At Kabul airport, a sense of calm and resigna...  \n",
       "37396  \"North Korea Restarted Plutonium-Producing Rea...  \n",
       "37397                      \"Is Vaccine Immunity Waning?\"  \n",
       "\n",
       "[37398 rows x 4 columns]"
      ]
     },
     "execution_count": 25,
     "metadata": {},
     "output_type": "execute_result"
    }
   ],
   "source": [
    "articles[article_text_cols]"
   ]
  },
  {
   "cell_type": "code",
   "execution_count": 50,
   "id": "c004c9aa-0ae0-4b1b-93c1-963b462aadea",
   "metadata": {},
   "outputs": [],
   "source": [
    "articles[article_text_cols] = articles.copy()[article_text_cols].fillna('')\n",
    "articles['all_text'] = articles[article_text_cols].agg(' - '.join, axis=1)"
   ]
  },
  {
   "cell_type": "markdown",
   "id": "03a57f6d-f375-4ee0-8176-ebd935bdd270",
   "metadata": {},
   "source": [
    "#### The data is filtered and ready for addding the sentiment column"
   ]
  },
  {
   "cell_type": "code",
   "execution_count": 51,
   "id": "5d3a796f-982e-4229-bdd3-d9d830c76ce4",
   "metadata": {},
   "outputs": [],
   "source": [
    "sia = SentimentIntensityAnalyzer()"
   ]
  },
  {
   "cell_type": "code",
   "execution_count": 52,
   "id": "9c15efcd-ed2d-42c9-b000-5a90004ea535",
   "metadata": {},
   "outputs": [],
   "source": [
    "def extract_sentiment(post):\n",
    "    scores = sia.polarity_scores(post)\n",
    "    return scores['compound']"
   ]
  },
  {
   "cell_type": "code",
   "execution_count": 53,
   "id": "0174fa40-80a3-49e7-827a-6e4b222bb2db",
   "metadata": {
    "tags": []
   },
   "outputs": [],
   "source": [
    "articles['overall_sentiment'] = articles['all_text'].map(extract_sentiment)\n",
    "# articles['overall_sentiment'] = (articles[article_text_cols].agg('-'.join, axis=1)).map(extract_sentiment)"
   ]
  },
  {
   "cell_type": "code",
   "execution_count": 54,
   "id": "04e6529c-6394-4f0a-8a85-21328bc35e53",
   "metadata": {},
   "outputs": [
    {
     "data": {
      "text/html": [
       "<div>\n",
       "<style scoped>\n",
       "    .dataframe tbody tr th:only-of-type {\n",
       "        vertical-align: middle;\n",
       "    }\n",
       "\n",
       "    .dataframe tbody tr th {\n",
       "        vertical-align: top;\n",
       "    }\n",
       "\n",
       "    .dataframe thead th {\n",
       "        text-align: right;\n",
       "    }\n",
       "</style>\n",
       "<table border=\"1\" class=\"dataframe\">\n",
       "  <thead>\n",
       "    <tr style=\"text-align: right;\">\n",
       "      <th></th>\n",
       "      <th>abstract</th>\n",
       "      <th>snippet</th>\n",
       "      <th>lead_paragraph</th>\n",
       "      <th>headline</th>\n",
       "      <th>keywords</th>\n",
       "      <th>pub_date</th>\n",
       "      <th>news_desk</th>\n",
       "      <th>section_name</th>\n",
       "      <th>type_of_material</th>\n",
       "      <th>word_count</th>\n",
       "      <th>uri</th>\n",
       "      <th>all_text</th>\n",
       "      <th>overall_sentiment</th>\n",
       "    </tr>\n",
       "  </thead>\n",
       "  <tbody>\n",
       "    <tr>\n",
       "      <th>0</th>\n",
       "      <td>The United States, supported by Britain, today...</td>\n",
       "      <td>The United States, supported by Britain, today...</td>\n",
       "      <td>The United States, supported by Britain, toda...</td>\n",
       "      <td>\"U.S. and Britain Clearing Way for \"Relentless...</td>\n",
       "      <td>The United States Taliban Rhode Television  Te...</td>\n",
       "      <td>2001-10-07 05:00:00+00:00</td>\n",
       "      <td>International</td>\n",
       "      <td>World</td>\n",
       "      <td>News</td>\n",
       "      <td>1333</td>\n",
       "      <td>nyt://article/02612e18-76c0-5447-bace-71473568...</td>\n",
       "      <td>The United States, supported by Britain, today...</td>\n",
       "      <td>-0.9648</td>\n",
       "    </tr>\n",
       "    <tr>\n",
       "      <th>1</th>\n",
       "      <td>Government can be expected to try to control, ...</td>\n",
       "      <td>Government can be expected to try to control, ...</td>\n",
       "      <td>IT will be, Americans have already been warned...</td>\n",
       "      <td>\"The World</td>\n",
       "      <td>World Trade Center (NYC) Airlines and Airplane...</td>\n",
       "      <td>2001-10-07 05:00:00+00:00</td>\n",
       "      <td>Week in Review Desk</td>\n",
       "      <td>Week in Review</td>\n",
       "      <td>News</td>\n",
       "      <td>1322</td>\n",
       "      <td>nyt://article/0abd157f-d390-5787-bf89-4e87dad4...</td>\n",
       "      <td>Government can be expected to try to control, ...</td>\n",
       "      <td>-0.9761</td>\n",
       "    </tr>\n",
       "    <tr>\n",
       "      <th>2</th>\n",
       "      <td>Richard B Woodward interviews photographer Edw...</td>\n",
       "      <td>Richard B Woodward interviews photographer Edw...</td>\n",
       "      <td>THE photographer Edward Grazda first visited A...</td>\n",
       "      <td>\"Art/Architecture; Images of Afghanistan, Befo...</td>\n",
       "      <td>Afghanistan Grazda Woodward   Photography</td>\n",
       "      <td>2001-10-07 05:00:00+00:00</td>\n",
       "      <td>Arts and Leisure Desk</td>\n",
       "      <td>Arts</td>\n",
       "      <td>Interview</td>\n",
       "      <td>1638</td>\n",
       "      <td>nyt://article/15581e37-54ea-5aa4-bc80-34588ab1...</td>\n",
       "      <td>Richard B Woodward interviews photographer Edw...</td>\n",
       "      <td>-0.6815</td>\n",
       "    </tr>\n",
       "    <tr>\n",
       "      <th>3</th>\n",
       "      <td>Violence Policy Center, Washington-based group...</td>\n",
       "      <td>Violence Policy Center, Washington-based group...</td>\n",
       "      <td>In the late 1980's, an American-based agent fo...</td>\n",
       "      <td>\"In 80\"s, Afghan Militias Used U.S. Rifles\"</td>\n",
       "      <td>New York City Russia Washington (DC) Afghanist...</td>\n",
       "      <td>2001-10-07 05:00:00+00:00</td>\n",
       "      <td>National Desk</td>\n",
       "      <td>U.S.</td>\n",
       "      <td>News</td>\n",
       "      <td>603</td>\n",
       "      <td>nyt://article/17f9cbdb-ff36-5df1-8a37-5c02edbb...</td>\n",
       "      <td>Violence Policy Center, Washington-based group...</td>\n",
       "      <td>-0.9661</td>\n",
       "    </tr>\n",
       "    <tr>\n",
       "      <th>4</th>\n",
       "      <td>Sending bright flashes of light and loud concu...</td>\n",
       "      <td>Sending bright flashes of light and loud concu...</td>\n",
       "      <td>TOPDARA, Afghanistan, Oct. 7 — Sending bright...</td>\n",
       "      <td>\"Thunderous Attack Heard in Kabul\"</td>\n",
       "      <td>Afghanistan Taliban Dostum United States Polit...</td>\n",
       "      <td>2001-10-07 05:00:00+00:00</td>\n",
       "      <td>International</td>\n",
       "      <td>World</td>\n",
       "      <td>News</td>\n",
       "      <td>611</td>\n",
       "      <td>nyt://article/1a2a8209-9dd4-501b-a988-0c2adfc9...</td>\n",
       "      <td>Sending bright flashes of light and loud concu...</td>\n",
       "      <td>0.9022</td>\n",
       "    </tr>\n",
       "  </tbody>\n",
       "</table>\n",
       "</div>"
      ],
      "text/plain": [
       "                                            abstract  \\\n",
       "0  The United States, supported by Britain, today...   \n",
       "1  Government can be expected to try to control, ...   \n",
       "2  Richard B Woodward interviews photographer Edw...   \n",
       "3  Violence Policy Center, Washington-based group...   \n",
       "4  Sending bright flashes of light and loud concu...   \n",
       "\n",
       "                                             snippet  \\\n",
       "0  The United States, supported by Britain, today...   \n",
       "1  Government can be expected to try to control, ...   \n",
       "2  Richard B Woodward interviews photographer Edw...   \n",
       "3  Violence Policy Center, Washington-based group...   \n",
       "4  Sending bright flashes of light and loud concu...   \n",
       "\n",
       "                                      lead_paragraph  \\\n",
       "0   The United States, supported by Britain, toda...   \n",
       "1  IT will be, Americans have already been warned...   \n",
       "2  THE photographer Edward Grazda first visited A...   \n",
       "3  In the late 1980's, an American-based agent fo...   \n",
       "4   TOPDARA, Afghanistan, Oct. 7 — Sending bright...   \n",
       "\n",
       "                                            headline  \\\n",
       "0  \"U.S. and Britain Clearing Way for \"Relentless...   \n",
       "1                                         \"The World   \n",
       "2  \"Art/Architecture; Images of Afghanistan, Befo...   \n",
       "3        \"In 80\"s, Afghan Militias Used U.S. Rifles\"   \n",
       "4                 \"Thunderous Attack Heard in Kabul\"   \n",
       "\n",
       "                                            keywords  \\\n",
       "0  The United States Taliban Rhode Television  Te...   \n",
       "1  World Trade Center (NYC) Airlines and Airplane...   \n",
       "2        Afghanistan Grazda Woodward   Photography     \n",
       "3  New York City Russia Washington (DC) Afghanist...   \n",
       "4  Afghanistan Taliban Dostum United States Polit...   \n",
       "\n",
       "                   pub_date              news_desk    section_name  \\\n",
       "0 2001-10-07 05:00:00+00:00          International           World   \n",
       "1 2001-10-07 05:00:00+00:00    Week in Review Desk  Week in Review   \n",
       "2 2001-10-07 05:00:00+00:00  Arts and Leisure Desk            Arts   \n",
       "3 2001-10-07 05:00:00+00:00          National Desk            U.S.   \n",
       "4 2001-10-07 05:00:00+00:00          International           World   \n",
       "\n",
       "  type_of_material  word_count  \\\n",
       "0             News        1333   \n",
       "1             News        1322   \n",
       "2        Interview        1638   \n",
       "3             News         603   \n",
       "4             News         611   \n",
       "\n",
       "                                                 uri  \\\n",
       "0  nyt://article/02612e18-76c0-5447-bace-71473568...   \n",
       "1  nyt://article/0abd157f-d390-5787-bf89-4e87dad4...   \n",
       "2  nyt://article/15581e37-54ea-5aa4-bc80-34588ab1...   \n",
       "3  nyt://article/17f9cbdb-ff36-5df1-8a37-5c02edbb...   \n",
       "4  nyt://article/1a2a8209-9dd4-501b-a988-0c2adfc9...   \n",
       "\n",
       "                                            all_text  overall_sentiment  \n",
       "0  The United States, supported by Britain, today...            -0.9648  \n",
       "1  Government can be expected to try to control, ...            -0.9761  \n",
       "2  Richard B Woodward interviews photographer Edw...            -0.6815  \n",
       "3  Violence Policy Center, Washington-based group...            -0.9661  \n",
       "4  Sending bright flashes of light and loud concu...             0.9022  "
      ]
     },
     "execution_count": 54,
     "metadata": {},
     "output_type": "execute_result"
    }
   ],
   "source": [
    "articles.head()"
   ]
  },
  {
   "cell_type": "code",
   "execution_count": 55,
   "id": "356dbecd-8f87-41b9-ae53-a7f256834e60",
   "metadata": {},
   "outputs": [
    {
     "data": {
      "text/plain": [
       "'Sending bright flashes of light and loud concussions rolling across the farming plain just 35 miles north of Kabul, American military forces began what looked like a steady bombardment.'"
      ]
     },
     "execution_count": 55,
     "metadata": {},
     "output_type": "execute_result"
    }
   ],
   "source": [
    "articles.loc[4]['snippet']"
   ]
  },
  {
   "cell_type": "markdown",
   "id": "185a95cc-40ed-4596-b66e-90c5dda9e4b9",
   "metadata": {},
   "source": [
    "90.22 % positive?"
   ]
  },
  {
   "cell_type": "markdown",
   "id": "b94708be-b45f-4bec-857a-1581efd71fcf",
   "metadata": {},
   "source": [
    "#### Export Cleaned Dataset for Modeling:"
   ]
  },
  {
   "cell_type": "code",
   "execution_count": 56,
   "id": "3c893b19-c4e1-44f7-ab67-eba2b48ea069",
   "metadata": {},
   "outputs": [],
   "source": [
    "articles.to_csv('../Datasets/articles_clean.csv', index=False)"
   ]
  },
  {
   "cell_type": "markdown",
   "id": "a02606c0-7233-4abf-9b0f-0648d3d3ca23",
   "metadata": {
    "tags": []
   },
   "source": [
    "## Analysis and insights\n",
    "___"
   ]
  },
  {
   "cell_type": "markdown",
   "id": "5569b286-7915-45f2-8ebc-0c3bec300959",
   "metadata": {},
   "source": [
    "### Sentiment"
   ]
  },
  {
   "cell_type": "code",
   "execution_count": 57,
   "id": "341255de-bc4a-4c05-8a3f-c606109fb70f",
   "metadata": {},
   "outputs": [
    {
     "data": {
      "text/plain": [
       "News                              24855\n",
       "Op-Ed                              2526\n",
       "Letter                             1254\n",
       "Review                              875\n",
       "Editorial                           872\n",
       "briefing                            862\n",
       "List                                660\n",
       "Summary                             598\n",
       "Video                               557\n",
       "Correction                          351\n",
       "Interactive Feature                 329\n",
       "Web Log                             291\n",
       "News Analysis                       274\n",
       "Schedule                            253\n",
       "Brief                               204\n",
       "Slideshow                           197\n",
       "Text                                179\n",
       "Obituary (Obit)                     169\n",
       "An Analysis; News Analysis           80\n",
       "Transcript                           74\n",
       "Series                               63\n",
       "Biography                            63\n",
       "Quote                                51\n",
       "Results Listing                      43\n",
       "Question                             40\n",
       "Sidebar                              32\n",
       "Interview                            24\n",
       "Special Report                       22\n",
       "Obituary; Biography                  21\n",
       "First Chapter                        16\n",
       "Military Analysis                    14\n",
       "Chronology                           11\n",
       "An Analysis; Military Analysis       10\n",
       "Editors' Note                         9\n",
       "Paid Death Notice                     8\n",
       "Newsletter                            4\n",
       "An Appraisal                          2\n",
       "Series; Interview                     2\n",
       "QandA                                 2\n",
       "Series; Text                          2\n",
       "Interview; Series                     1\n",
       "Obituary                              1\n",
       "Text; Interview                       1\n",
       "Op-Ed; Text                           1\n",
       "Recipe                                1\n",
       "Name: type_of_material, dtype: int64"
      ]
     },
     "execution_count": 57,
     "metadata": {},
     "output_type": "execute_result"
    }
   ],
   "source": [
    "articles['type_of_material'].value_counts()"
   ]
  },
  {
   "cell_type": "code",
   "execution_count": 82,
   "id": "faf2ab00-40b9-40f3-8c17-f5ae5306dea0",
   "metadata": {},
   "outputs": [
    {
     "data": {
      "text/plain": [
       "-0.26320643331321364"
      ]
     },
     "execution_count": 82,
     "metadata": {},
     "output_type": "execute_result"
    }
   ],
   "source": [
    "articles[articles['type_of_material'] ==\"News\"]['overall_sentiment'].mean()"
   ]
  },
  {
   "cell_type": "code",
   "execution_count": 87,
   "id": "f2dbb3e7-5232-4437-88e8-3b2efcad4c18",
   "metadata": {
    "tags": []
   },
   "outputs": [
    {
     "data": {
      "text/plain": [
       "{nan: nan,\n",
       " 'Question': -0.04443499999999999,\n",
       " 'Results Listing': 0.045709302325581395,\n",
       " 'Recipe': 0.0,\n",
       " 'Review': -0.10059531428571433,\n",
       " 'Schedule': 0.20499169960474303,\n",
       " 'Chronology': -0.4229909090909091,\n",
       " 'Obituary': 0.8625,\n",
       " 'An Analysis; News Analysis': -0.3852225000000001,\n",
       " 'Text': -0.02145977653631283,\n",
       " 'Obituary; Biography': -0.30137619047619046,\n",
       " 'Text; Interview': -0.9803,\n",
       " 'Newsletter': 0.25975,\n",
       " 'News': -0.26320643331321364,\n",
       " 'Biography': -0.002841269841269842,\n",
       " 'News Analysis': -0.2990554744525548,\n",
       " 'briefing': 0.0562293503480278,\n",
       " 'Interactive Feature': -0.08334832826747725,\n",
       " 'Interview': 0.033441666666666696,\n",
       " 'Brief': -0.5259431372549019,\n",
       " 'An Analysis; Military Analysis': -0.6973399999999998,\n",
       " 'Editorial': -0.28558107798165144,\n",
       " 'Summary': -0.5400740802675584,\n",
       " 'Sidebar': -0.31939687499999997,\n",
       " 'Letter': -0.19256004784689004,\n",
       " 'Obituary (Obit)': -0.26679644970414207,\n",
       " 'Correction': -0.13770883190883196,\n",
       " \"Editors' Note\": -0.5477222222222222,\n",
       " 'Web Log': -0.027097250859106536,\n",
       " 'First Chapter': 0.18111249999999998,\n",
       " 'Military Analysis': -0.07291428571428574,\n",
       " 'Interview; Series': -0.9943,\n",
       " 'Op-Ed': -0.17106682501979395,\n",
       " 'Op-Ed; Text': 0.9253,\n",
       " 'Series; Interview': -0.21419999999999997,\n",
       " 'Paid Death Notice': 0.31841250000000004,\n",
       " 'Slideshow': -0.11684010152284262,\n",
       " 'An Appraisal': -0.9299,\n",
       " 'Video': -0.36846032315978494,\n",
       " 'Quote': 0.012978431372549025,\n",
       " 'Series; Text': -0.03985,\n",
       " 'Transcript': 0.036975675675675695,\n",
       " 'QandA': 0.0,\n",
       " 'Series': -0.23525714285714291,\n",
       " 'Special Report': -0.10171363636363635,\n",
       " 'List': -0.7515277272727252}"
      ]
     },
     "execution_count": 87,
     "metadata": {},
     "output_type": "execute_result"
    }
   ],
   "source": [
    "{material:articles[articles['type_of_material'] ==material]['overall_sentiment'].mean() for material in set(articles['type_of_material'])}\n",
    "# articles['overall_sentiment']#['type_of_material']\n"
   ]
  },
  {
   "cell_type": "code",
   "execution_count": 58,
   "id": "e57f6ea4-12e6-4a30-8e6a-90e2e2fcee87",
   "metadata": {},
   "outputs": [
    {
     "data": {
      "image/png": "[encoded data removed]",
      "text/plain": [
       "<Figure size 432x288 with 1 Axes>"
      ]
     },
     "metadata": {
      "needs_background": "light"
     },
     "output_type": "display_data"
    }
   ],
   "source": [
    "sns.histplot(articles[articles['type_of_material']=='Op-Ed']['overall_sentiment'], alpha=.5, color='r')\n",
    "sns.histplot(articles['overall_sentiment'], alpha=.5, color='b');"
   ]
  },
  {
   "cell_type": "markdown",
   "id": "e1baabd9-0b8a-4300-82a3-ce65f52b4452",
   "metadata": {},
   "source": [
    "Op Eds Seem to have a less neutral tone overall, but also less negative "
   ]
  },
  {
   "cell_type": "code",
   "execution_count": null,
   "id": "c8637e2d-f2ce-4441-9326-672f6316fe14",
   "metadata": {},
   "outputs": [],
   "source": []
  },
  {
   "cell_type": "code",
   "execution_count": 59,
   "id": "98e47a14-5ad3-49eb-adcd-10a521b6b279",
   "metadata": {},
   "outputs": [],
   "source": [
    "sentiment_time = pd.DataFrame(articles.groupby('pub_date').mean()['overall_sentiment'])"
   ]
  },
  {
   "cell_type": "code",
   "execution_count": 60,
   "id": "b2fb0743-874d-4ea0-a90c-7f1103f14425",
   "metadata": {},
   "outputs": [
    {
     "data": {
      "text/html": [
       "<div>\n",
       "<style scoped>\n",
       "    .dataframe tbody tr th:only-of-type {\n",
       "        vertical-align: middle;\n",
       "    }\n",
       "\n",
       "    .dataframe tbody tr th {\n",
       "        vertical-align: top;\n",
       "    }\n",
       "\n",
       "    .dataframe thead th {\n",
       "        text-align: right;\n",
       "    }\n",
       "</style>\n",
       "<table border=\"1\" class=\"dataframe\">\n",
       "  <thead>\n",
       "    <tr style=\"text-align: right;\">\n",
       "      <th></th>\n",
       "      <th>overall_sentiment</th>\n",
       "    </tr>\n",
       "    <tr>\n",
       "      <th>pub_date</th>\n",
       "      <th></th>\n",
       "    </tr>\n",
       "  </thead>\n",
       "  <tbody>\n",
       "    <tr>\n",
       "      <th>2001-10-07 05:00:00+00:00</th>\n",
       "      <td>-0.55676</td>\n",
       "    </tr>\n",
       "    <tr>\n",
       "      <th>2001-10-08 05:00:00+00:00</th>\n",
       "      <td>-0.59478</td>\n",
       "    </tr>\n",
       "    <tr>\n",
       "      <th>2001-10-09 05:00:00+00:00</th>\n",
       "      <td>-0.61858</td>\n",
       "    </tr>\n",
       "    <tr>\n",
       "      <th>2001-10-10 05:00:00+00:00</th>\n",
       "      <td>-0.61979</td>\n",
       "    </tr>\n",
       "    <tr>\n",
       "      <th>2001-10-11 05:00:00+00:00</th>\n",
       "      <td>-0.70680</td>\n",
       "    </tr>\n",
       "  </tbody>\n",
       "</table>\n",
       "</div>"
      ],
      "text/plain": [
       "                           overall_sentiment\n",
       "pub_date                                    \n",
       "2001-10-07 05:00:00+00:00           -0.55676\n",
       "2001-10-08 05:00:00+00:00           -0.59478\n",
       "2001-10-09 05:00:00+00:00           -0.61858\n",
       "2001-10-10 05:00:00+00:00           -0.61979\n",
       "2001-10-11 05:00:00+00:00           -0.70680"
      ]
     },
     "execution_count": 60,
     "metadata": {},
     "output_type": "execute_result"
    }
   ],
   "source": [
    "sentiment_time.head()"
   ]
  },
  {
   "cell_type": "code",
   "execution_count": 61,
   "id": "91377803-edc4-403b-aac0-70d5e29b38cd",
   "metadata": {},
   "outputs": [
    {
     "data": {
      "text/plain": [
       "(23891, 1)"
      ]
     },
     "execution_count": 61,
     "metadata": {},
     "output_type": "execute_result"
    }
   ],
   "source": [
    "sentiment_time.shape"
   ]
  },
  {
   "cell_type": "code",
   "execution_count": 62,
   "id": "2829dad5-7163-4853-91ca-81cb95863568",
   "metadata": {},
   "outputs": [
    {
     "data": {
      "text/html": [
       "<div>\n",
       "<style scoped>\n",
       "    .dataframe tbody tr th:only-of-type {\n",
       "        vertical-align: middle;\n",
       "    }\n",
       "\n",
       "    .dataframe tbody tr th {\n",
       "        vertical-align: top;\n",
       "    }\n",
       "\n",
       "    .dataframe thead th {\n",
       "        text-align: right;\n",
       "    }\n",
       "</style>\n",
       "<table border=\"1\" class=\"dataframe\">\n",
       "  <thead>\n",
       "    <tr style=\"text-align: right;\">\n",
       "      <th></th>\n",
       "      <th>overall_sentiment</th>\n",
       "    </tr>\n",
       "    <tr>\n",
       "      <th>pub_date</th>\n",
       "      <th></th>\n",
       "    </tr>\n",
       "  </thead>\n",
       "  <tbody>\n",
       "    <tr>\n",
       "      <th>2001-10-31 00:00:00+00:00</th>\n",
       "      <td>-0.428335</td>\n",
       "    </tr>\n",
       "    <tr>\n",
       "      <th>2001-11-30 00:00:00+00:00</th>\n",
       "      <td>-0.199035</td>\n",
       "    </tr>\n",
       "    <tr>\n",
       "      <th>2001-12-31 00:00:00+00:00</th>\n",
       "      <td>-0.333351</td>\n",
       "    </tr>\n",
       "    <tr>\n",
       "      <th>2002-01-31 00:00:00+00:00</th>\n",
       "      <td>-0.340342</td>\n",
       "    </tr>\n",
       "    <tr>\n",
       "      <th>2002-02-28 00:00:00+00:00</th>\n",
       "      <td>-0.323763</td>\n",
       "    </tr>\n",
       "    <tr>\n",
       "      <th>...</th>\n",
       "      <td>...</td>\n",
       "    </tr>\n",
       "    <tr>\n",
       "      <th>2021-04-30 00:00:00+00:00</th>\n",
       "      <td>-0.252073</td>\n",
       "    </tr>\n",
       "    <tr>\n",
       "      <th>2021-05-31 00:00:00+00:00</th>\n",
       "      <td>-0.339685</td>\n",
       "    </tr>\n",
       "    <tr>\n",
       "      <th>2021-06-30 00:00:00+00:00</th>\n",
       "      <td>-0.091940</td>\n",
       "    </tr>\n",
       "    <tr>\n",
       "      <th>2021-07-31 00:00:00+00:00</th>\n",
       "      <td>-0.205861</td>\n",
       "    </tr>\n",
       "    <tr>\n",
       "      <th>2021-08-31 00:00:00+00:00</th>\n",
       "      <td>-0.241012</td>\n",
       "    </tr>\n",
       "  </tbody>\n",
       "</table>\n",
       "<p>239 rows × 1 columns</p>\n",
       "</div>"
      ],
      "text/plain": [
       "                           overall_sentiment\n",
       "pub_date                                    \n",
       "2001-10-31 00:00:00+00:00          -0.428335\n",
       "2001-11-30 00:00:00+00:00          -0.199035\n",
       "2001-12-31 00:00:00+00:00          -0.333351\n",
       "2002-01-31 00:00:00+00:00          -0.340342\n",
       "2002-02-28 00:00:00+00:00          -0.323763\n",
       "...                                      ...\n",
       "2021-04-30 00:00:00+00:00          -0.252073\n",
       "2021-05-31 00:00:00+00:00          -0.339685\n",
       "2021-06-30 00:00:00+00:00          -0.091940\n",
       "2021-07-31 00:00:00+00:00          -0.205861\n",
       "2021-08-31 00:00:00+00:00          -0.241012\n",
       "\n",
       "[239 rows x 1 columns]"
      ]
     },
     "execution_count": 62,
     "metadata": {},
     "output_type": "execute_result"
    }
   ],
   "source": [
    "sentiment_time.resample('M').mean()"
   ]
  },
  {
   "cell_type": "code",
   "execution_count": 63,
   "id": "c4709f14-a693-46f4-946b-a273e28dae94",
   "metadata": {},
   "outputs": [],
   "source": [
    "# Code modified from code written by Matthew Garton.\n",
    "\n",
    "def plot_series(df, cols=None, title='Title', xlab=None, ylab=None, steps=1):\n",
    "    \n",
    "    # Set figure size to be (18, 9).\n",
    "    plt.figure(figsize=(18,9))\n",
    "    \n",
    "    # Iterate through each column name.\n",
    "    for col in cols:\n",
    "            \n",
    "        # Generate a line plot of the column name.\n",
    "        # You only have to specify Y, since our\n",
    "        # index will be a datetime index.\n",
    "        plt.plot(df[col])\n",
    "        \n",
    "    # Generate title and labels.\n",
    "    plt.title(title, fontsize=26)\n",
    "    plt.xlabel(xlab, fontsize=20)\n",
    "    plt.ylabel(ylab, fontsize=20)\n",
    "    \n",
    "    # Enlarge tick marks.\n",
    "    plt.yticks(fontsize=18)\n",
    "    plt.xticks(df.index[0::steps], fontsize=18);"
   ]
  },
  {
   "cell_type": "code",
   "execution_count": 64,
   "id": "2cb26e1d-a5b4-44b8-a6d0-5538f55d96e6",
   "metadata": {},
   "outputs": [
    {
     "data": {
      "image/png": "[encoded data removed]",
      "text/plain": [
       "<Figure size 1296x648 with 1 Axes>"
      ]
     },
     "metadata": {
      "needs_background": "light"
     },
     "output_type": "display_data"
    }
   ],
   "source": [
    "plot_series(sentiment_time.resample('M').mean(), ['overall_sentiment'], 'Overall Sentiment of articles Addressing the war in Afganistan')"
   ]
  },
  {
   "cell_type": "markdown",
   "id": "b0461b51-07bc-43c9-94de-85b7a45386e7",
   "metadata": {},
   "source": [
    "### Show the 15 frequency of the most common words\n",
    "___"
   ]
  },
  {
   "cell_type": "markdown",
   "id": "d979e153-3845-402c-bb22-28338e17fafd",
   "metadata": {},
   "source": [
    "#### Create top words pipeline"
   ]
  },
  {
   "cell_type": "code",
   "execution_count": 66,
   "id": "e1c683cb-aec3-4aa0-9ae7-6fe35f8f7945",
   "metadata": {},
   "outputs": [],
   "source": [
    "def get_title(df):\n",
    "    return df['all_text']\n",
    "\n",
    "get_title_trasnformer = FunctionTransformer(get_title, validate=False)"
   ]
  },
  {
   "cell_type": "code",
   "execution_count": 67,
   "id": "1554cca5-9e24-46a4-a2d6-8cefc3b47af8",
   "metadata": {},
   "outputs": [],
   "source": [
    "def sparse_to_dense(sparse_matrix):\n",
    "    return np.asarray(sparse_matrix.todense())\n",
    "\n",
    "sparse_to_dense_trasnformer = FunctionTransformer(sparse_to_dense, validate=False)"
   ]
  },
  {
   "cell_type": "code",
   "execution_count": 68,
   "id": "04c4443b-39ae-4ebd-a561-c26485fb5b9c",
   "metadata": {},
   "outputs": [],
   "source": [
    "pipe = Pipeline([\n",
    "    ('title_transform', get_title_trasnformer),\n",
    "    ('cvec', CountVectorizer(stop_words='english')),\n",
    "    ('sparse_to_dense_trasnformer', sparse_to_dense_trasnformer)\n",
    "])"
   ]
  },
  {
   "cell_type": "code",
   "execution_count": 69,
   "id": "366c447d-48c1-4e90-9dc2-cca4e914fdc4",
   "metadata": {},
   "outputs": [
    {
     "data": {
      "text/plain": [
       "CountVectorizer(stop_words='english')"
      ]
     },
     "execution_count": 69,
     "metadata": {},
     "output_type": "execute_result"
    }
   ],
   "source": [
    "cvec_text = CountVectorizer(stop_words='english')\n",
    "cvec_text.fit(articles['all_text'])"
   ]
  },
  {
   "cell_type": "code",
   "execution_count": 70,
   "id": "5cce2972-f43c-4f93-ac00-8d5fdb220923",
   "metadata": {
    "tags": []
   },
   "outputs": [],
   "source": [
    "articles_cvec = pd.DataFrame(pipe.fit_transform(articles), columns=cvec_text.get_feature_names_out())"
   ]
  },
  {
   "cell_type": "code",
   "execution_count": 71,
   "id": "219045c2-db9a-4322-a820-f06795bc42ec",
   "metadata": {},
   "outputs": [],
   "source": [
    "top_words = articles_cvec.sum().sort_values(ascending=False)[:15]"
   ]
  },
  {
   "cell_type": "code",
   "execution_count": 72,
   "id": "422fb2cf-0de3-4488-b45f-5185ade1e9eb",
   "metadata": {},
   "outputs": [
    {
     "data": {
      "text/plain": [
       "afghanistan    26055\n",
       "american       17486\n",
       "president      15276\n",
       "new            14560\n",
       "war            14314\n",
       "said           13501\n",
       "afghan         13001\n",
       "military       12421\n",
       "iraq           11921\n",
       "united         11269\n",
       "taliban        10051\n",
       "bush            9769\n",
       "states          9484\n",
       "officials       9238\n",
       "pakistan        8143\n",
       "dtype: int64"
      ]
     },
     "execution_count": 72,
     "metadata": {},
     "output_type": "execute_result"
    }
   ],
   "source": [
    "top_words"
   ]
  }
 ],
 "metadata": {
  "kernelspec": {
   "display_name": "Python 3",
   "language": "python",
   "name": "python3"
  },
  "language_info": {
   "codemirror_mode": {
    "name": "ipython",
    "version": 3
   },
   "file_extension": ".py",
   "mimetype": "text/x-python",
   "name": "python",
   "nbconvert_exporter": "python",
   "pygments_lexer": "ipython3",
   "version": "3.8.8"
  }
 },
 "nbformat": 4,
 "nbformat_minor": 5
}
